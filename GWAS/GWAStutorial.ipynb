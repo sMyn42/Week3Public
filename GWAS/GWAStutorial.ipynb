{
 "cells": [
  {
   "cell_type": "code",
   "execution_count": null,
   "metadata": {},
   "outputs": [],
   "source": [
    "import pandas as pd\n",
    "from os import path\n",
    "import csv\n",
    "import numpy as np\n",
    "from time import time\n",
    "import numpy as np\n",
    "import scipy.stats as stats"
   ]
  },
  {
   "cell_type": "code",
   "execution_count": null,
   "metadata": {},
   "outputs": [],
   "source": [
    "## Load the test data \n",
    "t2d_22_file = 'C:/Users/saketh/stuff/Medlytics/Week3Public/BWSI_100set/T2D/Affx_gt_T2D_Chiamo_22.tped.gz'\n",
    "ctrl1_22_file = 'C:/Users/saketh/stuff/Medlytics/Week3Public/BWSI_100set/58C/Affx_gt_58C_Chiamo_22.tped.gz' # 58C\n",
    "ctrl2_22_file = 'C:/Users/saketh/stuff/Medlytics/Week3Public/BWSI_100set/NBS/Affx_gt_NBS_Chiamo_22.tped.gz' # NBS\n",
    "## The 22 means Chromosome 22\n",
    "\n",
    "t2d = pd.read_csv(t2d_22_file, compression='gzip', header=None, sep='\\t')\n",
    "ctrl1 = pd.read_csv(ctrl1_22_file, compression='gzip', header=None, sep='\\t')\n",
    "ctrl2 = pd.read_csv(ctrl2_22_file, compression='gzip', header=None, sep='\\t')\n",
    "\n",
    "#SNP code rsID and snpID files for chromosome 22\n",
    "snp_file = 'C:/Users/saketh/stuff/Medlytics/Week3Public/BWSI_100set/58C/snps/snps_22'\n",
    "snp = pd.read_csv(snp_file, header=None, sep='\\t')"
   ]
  },
  {
   "cell_type": "code",
   "execution_count": null,
   "metadata": {},
   "outputs": [],
   "source": [
    "t2d_header = t2d.loc[:, 0:3]\n",
    "t2d_data = t2d.loc[:, 4:]\n",
    "ctrl1_header = ctrl1.loc[:, 0:3]\n",
    "ctrl1_data = ctrl1.loc[:, 4:]\n",
    "ctrl2_header = ctrl2.loc[:, 0:3]\n",
    "ctrl2_data = ctrl2.loc[:, 4:]\n",
    "snp"
   ]
  },
  {
   "cell_type": "code",
   "execution_count": null,
   "metadata": {},
   "outputs": [],
   "source": [
    "snpinfo = snp.loc[:, 3:4]\n",
    "ctrl1_header.rename(columns={1:'SNP'}, inplace=True)\n",
    "snpinfo.rename(inplace=True, columns={3:'SNP', 4:'rsID'})\n",
    "snpmap = ctrl1_header.join(snpinfo.set_index('SNP'), on='SNP', how='left')\n",
    "snpmap"
   ]
  },
  {
   "cell_type": "code",
   "execution_count": 220,
   "metadata": {
    "scrolled": true
   },
   "outputs": [
    {
     "data": {
      "text/plain": [
       "4       C T\n",
       "5       T T\n",
       "6       C C\n",
       "7       C C\n",
       "8       C C\n",
       "9       C T\n",
       "10      C C\n",
       "11      C C\n",
       "12      C C\n",
       "13      C C\n",
       "14      C T\n",
       "15      C C\n",
       "16      C C\n",
       "17      C T\n",
       "18      C C\n",
       "19      C T\n",
       "20      C T\n",
       "21      T T\n",
       "22      C T\n",
       "23      C T\n",
       "24      C T\n",
       "25      C T\n",
       "26      T T\n",
       "27      C T\n",
       "28      C C\n",
       "29      T T\n",
       "30      C T\n",
       "31      C T\n",
       "32      C C\n",
       "33      C T\n",
       "       ... \n",
       "1973    C T\n",
       "1974    C C\n",
       "1975    C T\n",
       "1976    C T\n",
       "1977    C T\n",
       "1978    C T\n",
       "1979    C T\n",
       "1980    C T\n",
       "1981    T T\n",
       "1982    T T\n",
       "1983    C T\n",
       "1984    C T\n",
       "1985    C C\n",
       "1986    C T\n",
       "1987    C T\n",
       "1988    T T\n",
       "1989    C T\n",
       "1990    C T\n",
       "1991    T T\n",
       "1992    C C\n",
       "1993    C C\n",
       "1994    C T\n",
       "1995    C C\n",
       "1996    C T\n",
       "1997    C C\n",
       "1998    T T\n",
       "1999    C T\n",
       "2000    C T\n",
       "2001    C T\n",
       "2002    C T\n",
       "Name: 1, Length: 1999, dtype: object"
      ]
     },
     "execution_count": 220,
     "metadata": {},
     "output_type": "execute_result"
    }
   ],
   "source": [
    "snp1_ctrl1 = ctrl1_data.loc[1]\n",
    "snp1_ctrl2 = ctrl2_data.loc[1]\n",
    "snp1_t2d = t2d_data.loc[1]\n",
    "snp1_t2d"
   ]
  },
  {
   "cell_type": "code",
   "execution_count": 212,
   "metadata": {},
   "outputs": [],
   "source": [
    "def allele_frq(snp):\n",
    "    '''\n",
    "    Pass a single SNP and get in return\n",
    "    a list of all of the number of alleles in the order\n",
    "    A, C, G, T\n",
    "    Returns minor allele frequency, minor allele, and major allele respectively.\n",
    "    '''\n",
    "    snp_series = list(snp.T)\n",
    "    total_alleles = 0\n",
    "    c = 0\n",
    "    g = 0\n",
    "    a = 0\n",
    "    t = 0\n",
    "\n",
    "    # My Shit Code\n",
    "    for i in snp_series:\n",
    "        total_alleles += 2\n",
    "        for j in i:\n",
    "            if j == 'C':\n",
    "                c += 1\n",
    "            elif j == 'A':\n",
    "                a += 1\n",
    "            elif j == 'G':\n",
    "                g += 1\n",
    "            elif j == 'T':\n",
    "                t += 1\n",
    "            else:\n",
    "                pass\n",
    "    freq_list = [i for i in [float(a/total_alleles), float(c/total_alleles), float(g/total_alleles), float(t/total_alleles)]]\n",
    "    freqno0 = [i for i in [float(a/total_alleles), float(c/total_alleles), float(g/total_alleles), float(t/total_alleles)] if i != 0.0]\n",
    "    minor_freq = np.min(freqno0)\n",
    "    minor_freq_index = freq_list.index(minor_freq)\n",
    "    major_freq_index = np.argmax(freq_list)\n",
    "    retval = []\n",
    "    retval.append(minor_freq)\n",
    "    if minor_freq_index == 0:\n",
    "        retval.append('A')\n",
    "    elif minor_freq_index == 1:\n",
    "        retval.append('C')\n",
    "    elif minor_freq_index == 2:\n",
    "        retval.append('G')\n",
    "    else:\n",
    "        retval.append('T')\n",
    "    if major_freq_index == 0:\n",
    "        retval.append('A')\n",
    "    elif major_freq_index == 1:\n",
    "        retval.append('C')\n",
    "    elif major_freq_index == 2:\n",
    "        retval.append('G')\n",
    "    else:\n",
    "        retval.append('T')\n",
    "    retval.append(total_alleles)\n",
    "    return retval\n",
    "\n",
    "def conf_matrix(snp_healthy, snp_disease):\n",
    "    '''\n",
    "    Pass a healthy SNP and a disease SNP and get in return\n",
    "    a list of all of the numbers of alleles in the order\n",
    "    A, C, G, T\n",
    "    '''\n",
    "    snp_series_healthy = list(snp_healthy.T)\n",
    "    snp_series_disease = list(snp_disease.T)\n",
    "    total_alleles_h = 0\n",
    "    total_alleles_d = 0\n",
    "    c_h = 0\n",
    "    g_h = 0\n",
    "    a_h = 0\n",
    "    t_h = 0\n",
    "    c_d = 0\n",
    "    g_d = 0\n",
    "    a_d = 0\n",
    "    t_d = 0\n",
    "    \n",
    "    # My Shit Code\n",
    "    for i in snp_series_healthy:\n",
    "        total_alleles_h += 2\n",
    "        for j in i:\n",
    "            if j == 'C':\n",
    "                c_h += 1\n",
    "            elif j == 'A':\n",
    "                a_h += 1\n",
    "            elif j == 'G':\n",
    "                g_h += 1\n",
    "            elif j == 'T':\n",
    "                t_h += 1\n",
    "            else:\n",
    "                pass\n",
    "    \n",
    "    # My Shit Code\n",
    "    for i in snp_series_disease:\n",
    "        total_alleles_d += 2\n",
    "        for j in i:\n",
    "            if j == 'C':\n",
    "                c_d += 1\n",
    "            elif j == 'A':\n",
    "                a_d += 1\n",
    "            elif j == 'G':\n",
    "                g_d += 1\n",
    "            elif j == 'T':\n",
    "                t_d += 1\n",
    "            else:\n",
    "                pass\n",
    "    retval = np.array([i for i in [a_d, c_d, g_d, t_d, a_h, c_h, g_h, t_h] if i != 0]).reshape((2, 2))\n",
    "    return retval"
   ]
  },
  {
   "cell_type": "code",
   "execution_count": 213,
   "metadata": {},
   "outputs": [],
   "source": [
    "def odds_ratio(snp_healthy, snp_disease):\n",
    "    disease_count = allele_frq(snp_disease)[0]\n",
    "    healthy_count = allele_frq(snp_healthy)[0]\n",
    "    ratio = (disease_count*(1-healthy_count))/(healthy_count*(1-disease_count))\n",
    "    return(ratio)"
   ]
  },
  {
   "cell_type": "code",
   "execution_count": 221,
   "metadata": {},
   "outputs": [
    {
     "data": {
      "text/plain": [
       "1.1019003978402955"
      ]
     },
     "execution_count": 221,
     "metadata": {},
     "output_type": "execute_result"
    }
   ],
   "source": [
    "odds_ratio(snp1_ctrl1, snp1_t2d)"
   ]
  },
  {
   "cell_type": "code",
   "execution_count": 222,
   "metadata": {},
   "outputs": [
    {
     "data": {
      "text/plain": [
       "0.049078217495074614"
      ]
     },
     "execution_count": 222,
     "metadata": {},
     "output_type": "execute_result"
    }
   ],
   "source": [
    "stats.chi2_contingency(conf_matrix(snp1_ctrl1, snp1_t2d))[1]\n",
    "#p - value of OR -> 0.96"
   ]
  },
  {
   "cell_type": "code",
   "execution_count": 217,
   "metadata": {},
   "outputs": [],
   "source": [
    "# HWE equilibrium p-value\n",
    "def HWE(snp):\n",
    "    snp_string = snp.to_string()\n",
    "    #COUNT C C\n",
    "    #C T\n",
    "    #T T\n",
    "\n",
    "    a = snp_string.count('C C')\n",
    "    b = snp_string.count('C T')\n",
    "    c = snp_string.count('T T')\n",
    "    t = snp_string.count('\\n') # total number of ppl\n",
    "\n",
    "\n",
    "    obs = np.array([a,b,c])\n",
    "    exp = np.array([allele_frq(snp1_ctrl1)[0] ** 2, 2 * allele_frq(snp1_ctrl1)[0] * (1-allele_frq(snp1_ctrl1)[0]), (1-allele_frq(snp1_ctrl1)[0]) ** 2]) * t\n",
    "    HWE = ((obs - exp) ** 2)/exp\n",
    "    return stats.distributions.chi2.sf(np.sum(HWE), 1)"
   ]
  },
  {
   "cell_type": "code",
   "execution_count": 218,
   "metadata": {},
   "outputs": [
    {
     "data": {
      "text/plain": [
       "0.9124994962314105"
      ]
     },
     "execution_count": 218,
     "metadata": {},
     "output_type": "execute_result"
    }
   ],
   "source": [
    "HWE(snp1_ctrl1)"
   ]
  },
  {
   "cell_type": "code",
   "execution_count": null,
   "metadata": {},
   "outputs": [],
   "source": []
  }
 ],
 "metadata": {
  "kernelspec": {
   "display_name": "Python 3",
   "language": "python",
   "name": "python3"
  },
  "language_info": {
   "codemirror_mode": {
    "name": "ipython",
    "version": 3
   },
   "file_extension": ".py",
   "mimetype": "text/x-python",
   "name": "python",
   "nbconvert_exporter": "python",
   "pygments_lexer": "ipython3",
   "version": "3.7.3"
  }
 },
 "nbformat": 4,
 "nbformat_minor": 2
}
